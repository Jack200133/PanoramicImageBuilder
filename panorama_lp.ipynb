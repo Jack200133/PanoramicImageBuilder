{
 "cells": [
  {
   "cell_type": "code",
   "execution_count": 1,
   "metadata": {},
   "outputs": [
    {
     "name": "stdout",
     "output_type": "stream",
     "text": [
      "Requirement already satisfied: opencv-python in c:\\users\\lp109\\appdata\\local\\programs\\python\\python311\\lib\\site-packages (4.8.0.76)\n",
      "Requirement already satisfied: numpy in c:\\users\\lp109\\appdata\\local\\programs\\python\\python311\\lib\\site-packages (1.23.5)\n",
      "Requirement already satisfied: scikit-image in c:\\users\\lp109\\appdata\\local\\programs\\python\\python311\\lib\\site-packages (0.22.0)\n",
      "Requirement already satisfied: matplotlib in c:\\users\\lp109\\appdata\\local\\programs\\python\\python311\\lib\\site-packages (3.7.1)\n",
      "Requirement already satisfied: scipy>=1.8 in c:\\users\\lp109\\appdata\\local\\programs\\python\\python311\\lib\\site-packages (from scikit-image) (1.10.1)\n",
      "Requirement already satisfied: networkx>=2.8 in c:\\users\\lp109\\appdata\\local\\programs\\python\\python311\\lib\\site-packages (from scikit-image) (3.1)\n",
      "Requirement already satisfied: pillow>=9.0.1 in c:\\users\\lp109\\appdata\\local\\programs\\python\\python311\\lib\\site-packages (from scikit-image) (9.5.0)\n",
      "Requirement already satisfied: imageio>=2.27 in c:\\users\\lp109\\appdata\\local\\programs\\python\\python311\\lib\\site-packages (from scikit-image) (2.34.0)\n",
      "Requirement already satisfied: tifffile>=2022.8.12 in c:\\users\\lp109\\appdata\\local\\programs\\python\\python311\\lib\\site-packages (from scikit-image) (2024.2.12)\n",
      "Requirement already satisfied: packaging>=21 in c:\\users\\lp109\\appdata\\local\\programs\\python\\python311\\lib\\site-packages (from scikit-image) (23.1)\n",
      "Requirement already satisfied: lazy_loader>=0.3 in c:\\users\\lp109\\appdata\\local\\programs\\python\\python311\\lib\\site-packages (from scikit-image) (0.3)\n",
      "Requirement already satisfied: contourpy>=1.0.1 in c:\\users\\lp109\\appdata\\local\\programs\\python\\python311\\lib\\site-packages (from matplotlib) (1.0.7)\n",
      "Requirement already satisfied: cycler>=0.10 in c:\\users\\lp109\\appdata\\local\\programs\\python\\python311\\lib\\site-packages (from matplotlib) (0.11.0)\n",
      "Requirement already satisfied: fonttools>=4.22.0 in c:\\users\\lp109\\appdata\\local\\programs\\python\\python311\\lib\\site-packages (from matplotlib) (4.39.3)\n",
      "Requirement already satisfied: kiwisolver>=1.0.1 in c:\\users\\lp109\\appdata\\local\\programs\\python\\python311\\lib\\site-packages (from matplotlib) (1.4.4)\n",
      "Requirement already satisfied: pyparsing>=2.3.1 in c:\\users\\lp109\\appdata\\local\\programs\\python\\python311\\lib\\site-packages (from matplotlib) (3.0.9)\n",
      "Requirement already satisfied: python-dateutil>=2.7 in c:\\users\\lp109\\appdata\\local\\programs\\python\\python311\\lib\\site-packages (from matplotlib) (2.8.2)\n",
      "Requirement already satisfied: six>=1.5 in c:\\users\\lp109\\appdata\\local\\programs\\python\\python311\\lib\\site-packages (from python-dateutil>=2.7->matplotlib) (1.16.0)\n"
     ]
    },
    {
     "name": "stderr",
     "output_type": "stream",
     "text": [
      "\n",
      "[notice] A new release of pip is available: 23.1.2 -> 24.0\n",
      "[notice] To update, run: python.exe -m pip install --upgrade pip\n"
     ]
    }
   ],
   "source": [
    "!pip install opencv-python numpy scikit-image matplotlib"
   ]
  },
  {
   "cell_type": "code",
   "execution_count": 2,
   "metadata": {},
   "outputs": [],
   "source": [
    "import numpy as np\n",
    "import matplotlib.pyplot as plt\n",
    "from skimage.morphology import medial_axis\n",
    "import cv2 as cv\n",
    "from time import time\n",
    "import os"
   ]
  },
  {
   "cell_type": "code",
   "execution_count": 3,
   "metadata": {},
   "outputs": [],
   "source": [
    "def read_images_collection(path):\n",
    "    collection = []\n",
    "\n",
    "    if not os.path.exists(path):\n",
    "        print(\"El directorio especificado no existe.\")\n",
    "        return collection\n",
    "\n",
    "    file_list = os.listdir(path)\n",
    "\n",
    "    for filename in file_list:\n",
    "        if filename.lower().endswith(('.png', '.jpg', '.jpeg', '.bmp')):\n",
    "            image_path = os.path.join(path, filename)\n",
    "            image = cv.imread(image_path)\n",
    "            if image is not None:\n",
    "                collection.append(image)\n",
    "            else:\n",
    "                print(f\"No se pudo leer la imagen: {image_path}\")\n",
    "\n",
    "    return collection"
   ]
  },
  {
   "cell_type": "code",
   "execution_count": 4,
   "metadata": {},
   "outputs": [],
   "source": [
    "collection_path = \"./imgs/cuar\"\n",
    "images_collection = read_images_collection(collection_path)\n",
    "imgnumber = len(images_collection)"
   ]
  },
  {
   "cell_type": "code",
   "execution_count": 7,
   "metadata": {},
   "outputs": [
    {
     "data": {
      "text/plain": [
       "1"
      ]
     },
     "execution_count": 7,
     "metadata": {},
     "output_type": "execute_result"
    }
   ],
   "source": [
    "selected_image_index = 1\n",
    "selected_image = images_collection[selected_image_index]\n",
    "1"
   ]
  },
  {
   "cell_type": "code",
   "execution_count": 8,
   "metadata": {},
   "outputs": [
    {
     "data": {
      "text/plain": [
       "1"
      ]
     },
     "execution_count": 8,
     "metadata": {},
     "output_type": "execute_result"
    }
   ],
   "source": [
    "homographies = []\n",
    "\n",
    "# Calcular homografías para cada imagen diferente de la imagen base\n",
    "for i, image in enumerate(images_collection):\n",
    "    if i != selected_image_index:\n",
    "        # Encontrar puntos clave y descriptores para el emparejamiento de características\n",
    "        orb = cv.ORB_create()\n",
    "        keypoints1, descriptors1 = orb.detectAndCompute(selected_image, None)\n",
    "        keypoints2, descriptors2 = orb.detectAndCompute(image, None)\n",
    "        \n",
    "        # Realizar el emparejamiento de características\n",
    "        bf = cv.BFMatcher(cv.NORM_HAMMING, crossCheck=True)\n",
    "        matches = bf.match(descriptors1, descriptors2)\n",
    "        \n",
    "        # Ordenar los emparejamientos por distancia\n",
    "        matches = sorted(matches, key=lambda x:x.distance)\n",
    "\n",
    "        # Obtener los puntos correspondientes en ambas imágenes\n",
    "        src_pts = np.float32([keypoints1[m.queryIdx].pt for m in matches]).reshape(-1, 1, 2)\n",
    "        dst_pts = np.float32([keypoints2[m.trainIdx].pt for m in matches]).reshape(-1, 1, 2)\n",
    "        \n",
    "        # Calcular la homografía utilizando RANSAC\n",
    "        H, _ = cv.findHomography(dst_pts, src_pts, cv.RANSAC)\n",
    "\n",
    "        # Almacenar la homografía\n",
    "        homographies.append(H)\n",
    "\n",
    "\n",
    "1\n"
   ]
  },
  {
   "cell_type": "code",
   "execution_count": 10,
   "metadata": {},
   "outputs": [],
   "source": [
    "def find_matching_pairs(image1, image2):\n",
    "    # Inicializar el detector de puntos clave (SIFT, SURF, ORB, etc.)\n",
    "    orb = cv.ORB_create()\n",
    "\n",
    "    # Encontrar puntos clave y descriptores para ambas imágenes\n",
    "    keypoints1, descriptors1 = orb.detectAndCompute(image1, None)\n",
    "    keypoints2, descriptors2 = orb.detectAndCompute(image2, None)\n",
    "\n",
    "    # Realizar el emparejamiento de características\n",
    "    bf = cv.BFMatcher(cv.NORM_HAMMING, crossCheck=True)\n",
    "    matches = bf.match(descriptors1, descriptors2)\n",
    "\n",
    "    # Filtrar las correspondencias usando RANSAC\n",
    "    src_pts = np.float32([keypoints1[m.queryIdx].pt for m in matches]).reshape(-1, 1, 2)\n",
    "    dst_pts = np.float32([keypoints2[m.trainIdx].pt for m in matches]).reshape(-1, 1, 2)\n",
    "    H, mask = cv.findHomography(src_pts, dst_pts, cv.RANSAC, 5.0)\n",
    "\n",
    "    # Obtener las correspondencias inliers\n",
    "    inliers = np.where(mask.ravel() == 1)[0]\n",
    "    inlier_matches = [matches[i] for i in inliers]\n",
    "\n",
    "    return H, inlier_matches"
   ]
  },
  {
   "cell_type": "code",
   "execution_count": 11,
   "metadata": {},
   "outputs": [
    {
     "name": "stdout",
     "output_type": "stream",
     "text": [
      "Homografía estimada H_ij:\n",
      "[[-2.28024299e-01  2.33632447e-01  3.05936670e+02]\n",
      " [-1.24098282e+00  9.60785186e-01  1.76108954e+03]\n",
      " [-5.57179049e-04  3.26532858e-04  1.00000000e+00]]\n",
      "Número de correspondencias inliers: 10\n"
     ]
    }
   ],
   "source": [
    "# Seleccionar dos imágenes consecutivas para encontrar correspondencias\n",
    "image1 = images_collection[0]\n",
    "image2 = images_collection[1]\n",
    "\n",
    "# Encontrar correspondencias y estimar la homografía\n",
    "H, matches = find_matching_pairs(image1, image2)\n",
    "\n",
    "# Imprimir la homografía y el número de correspondencias inliers\n",
    "print(\"Homografía estimada H_ij:\")\n",
    "print(H)\n",
    "print(\"Número de correspondencias inliers:\", len(matches))"
   ]
  },
  {
   "cell_type": "code",
   "execution_count": 6,
   "metadata": {},
   "outputs": [
    {
     "name": "stdout",
     "output_type": "stream",
     "text": [
      "[[2992 2992    3]\n",
      " [2992 2992    3]\n",
      " [2992 2992    3]]\n"
     ]
    }
   ],
   "source": [
    "shapes = np.zeros((imgnumber, 3)).astype(int)\n",
    "\n",
    "for i in range(imgnumber):\n",
    "    shapes[i, :] = images_collection[i].shape\n",
    "print(shapes)"
   ]
  },
  {
   "cell_type": "code",
   "execution_count": null,
   "metadata": {},
   "outputs": [],
   "source": []
  }
 ],
 "metadata": {
  "kernelspec": {
   "display_name": "Python 3",
   "language": "python",
   "name": "python3"
  },
  "language_info": {
   "codemirror_mode": {
    "name": "ipython",
    "version": 3
   },
   "file_extension": ".py",
   "mimetype": "text/x-python",
   "name": "python",
   "nbconvert_exporter": "python",
   "pygments_lexer": "ipython3",
   "version": "3.11.3"
  }
 },
 "nbformat": 4,
 "nbformat_minor": 2
}
